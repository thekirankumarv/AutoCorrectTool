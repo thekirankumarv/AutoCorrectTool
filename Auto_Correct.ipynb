{
 "cells": [
  {
   "cell_type": "code",
   "execution_count": 35,
   "id": "503b95b0",
   "metadata": {},
   "outputs": [
    {
     "name": "stdout",
     "output_type": "stream",
     "text": [
      "Defaulting to user installation because normal site-packages is not writeable\n",
      "Requirement already satisfied: spello in c:\\users\\theki\\appdata\\roaming\\python\\python311\\site-packages (1.3.0)\n",
      "Requirement already satisfied: nltk<4,>=3.4.5 in c:\\users\\theki\\appdata\\roaming\\python\\python311\\site-packages (from spello) (3.8.1)\n",
      "Requirement already satisfied: click in c:\\users\\theki\\appdata\\roaming\\python\\python311\\site-packages (from nltk<4,>=3.4.5->spello) (8.1.6)\n",
      "Requirement already satisfied: joblib in c:\\users\\theki\\appdata\\roaming\\python\\python311\\site-packages (from nltk<4,>=3.4.5->spello) (1.3.1)\n",
      "Requirement already satisfied: regex>=2021.8.3 in c:\\users\\theki\\appdata\\roaming\\python\\python311\\site-packages (from nltk<4,>=3.4.5->spello) (2023.6.3)\n",
      "Requirement already satisfied: tqdm in c:\\users\\theki\\appdata\\roaming\\python\\python311\\site-packages (from nltk<4,>=3.4.5->spello) (4.65.0)\n",
      "Requirement already satisfied: colorama in c:\\users\\theki\\appdata\\roaming\\python\\python311\\site-packages (from click->nltk<4,>=3.4.5->spello) (0.4.6)\n"
     ]
    },
    {
     "name": "stderr",
     "output_type": "stream",
     "text": [
      "\n",
      "[notice] A new release of pip available: 22.3.1 -> 23.2\n",
      "[notice] To update, run: python.exe -m pip install --upgrade pip\n"
     ]
    }
   ],
   "source": [
    "!pip install spello"
   ]
  },
  {
   "cell_type": "code",
   "execution_count": 36,
   "id": "77e41543",
   "metadata": {},
   "outputs": [],
   "source": [
    "from spello.model import SpellCorrectionModel"
   ]
  },
  {
   "cell_type": "code",
   "execution_count": 37,
   "id": "f3641340",
   "metadata": {},
   "outputs": [],
   "source": [
    "model = SpellCorrectionModel(language=\"en\")"
   ]
  },
  {
   "cell_type": "code",
   "execution_count": 38,
   "id": "3fd69b4d",
   "metadata": {},
   "outputs": [],
   "source": [
    "with open (\"words.txt\") as file:\n",
    "    data = file.readlines()\n",
    "\n",
    "data = [i.strip() for i in data]"
   ]
  },
  {
   "cell_type": "code",
   "execution_count": 39,
   "id": "1182b284",
   "metadata": {},
   "outputs": [
    {
     "name": "stdout",
     "output_type": "stream",
     "text": [
      "Spello training started..\n",
      "Context model training started ...\n"
     ]
    },
    {
     "name": "stdout",
     "output_type": "stream",
     "text": [
      "Symspell training started ...\n",
      "Phoneme training started ...\n",
      "Spello training completed successfully ...\n"
     ]
    }
   ],
   "source": [
    "model.train(data)"
   ]
  },
  {
   "cell_type": "code",
   "execution_count": 40,
   "id": "f6cae7ac",
   "metadata": {},
   "outputs": [
    {
     "data": {
      "text/plain": [
       "'.\\\\model.pkl'"
      ]
     },
     "execution_count": 40,
     "metadata": {},
     "output_type": "execute_result"
    }
   ],
   "source": [
    "model.save(\"\")"
   ]
  },
  {
   "cell_type": "code",
   "execution_count": 41,
   "id": "83d6e4f0",
   "metadata": {},
   "outputs": [
    {
     "data": {
      "text/plain": [
       "<spello.model.SpellCorrectionModel at 0x19594df4d10>"
      ]
     },
     "execution_count": 41,
     "metadata": {},
     "output_type": "execute_result"
    }
   ],
   "source": [
    "model.load(\"model.pkl\")"
   ]
  },
  {
   "cell_type": "code",
   "execution_count": 42,
   "id": "e81260b7",
   "metadata": {},
   "outputs": [],
   "source": [
    "lines = input(\"Enter the sentence/word : \")"
   ]
  },
  {
   "cell_type": "code",
   "execution_count": 43,
   "id": "e501b381",
   "metadata": {},
   "outputs": [],
   "source": [
    "words = lines.split()"
   ]
  },
  {
   "cell_type": "code",
   "execution_count": 44,
   "id": "0a3ef2ef",
   "metadata": {},
   "outputs": [],
   "source": [
    "correct_words = []\n",
    "for word in words:\n",
    "    corrected = model.spell_correct(word)\n",
    "    correct_words.append(corrected['spell_corrected_text'])\n",
    "    \n",
    "corrected_sentence = \" \".join(correct_words)"
   ]
  },
  {
   "cell_type": "code",
   "execution_count": 45,
   "id": "4b2f42b7",
   "metadata": {},
   "outputs": [
    {
     "name": "stdout",
     "output_type": "stream",
     "text": [
      "Corrected Sentence :  navigate\n"
     ]
    }
   ],
   "source": [
    "print(\"Corrected Sentence : \",corrected_sentence)"
   ]
  },
  {
   "cell_type": "code",
   "execution_count": null,
   "id": "21ab47de",
   "metadata": {},
   "outputs": [],
   "source": []
  }
 ],
 "metadata": {
  "kernelspec": {
   "display_name": "Python 3 (ipykernel)",
   "language": "python",
   "name": "python3"
  },
  "language_info": {
   "codemirror_mode": {
    "name": "ipython",
    "version": 3
   },
   "file_extension": ".py",
   "mimetype": "text/x-python",
   "name": "python",
   "nbconvert_exporter": "python",
   "pygments_lexer": "ipython3",
   "version": "3.11.2"
  }
 },
 "nbformat": 4,
 "nbformat_minor": 5
}
